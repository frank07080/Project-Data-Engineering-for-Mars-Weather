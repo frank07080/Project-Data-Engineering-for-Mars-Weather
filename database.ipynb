{
 "cells": [
  {
   "cell_type": "code",
   "execution_count": 9,
   "metadata": {},
   "outputs": [],
   "source": [
    "import logging\n",
    "import pymongo\n",
    "import pandas as pd\n",
    "import expiringdict\n",
    "import requests\n",
    "import json\n",
    "\n",
    "import utils\n",
    "\n",
    "client = pymongo.MongoClient()\n",
    "logger = logging.Logger(__name__)\n",
    "utils.setup_logger(logger, 'db.log')\n",
    "RESULT_CACHE_EXPIRATION = 10             # seconds\n",
    "\n",
    "key = \"j8jSUUXusA5glsJa3q5bQaDad6sE4H2u9K5rFbST\"\n",
    "requested = requests.get(f\"https://api.nasa.gov/insight_weather/?api_key={key}&feedtype=json&ver=1.0\").text\n",
    "requested = json.loads(requested)\n",
    "\n",
    "main_keys = requested['sol_keys']\n",
    "df_requested = {\"sol_day\": [], \"date\": [], \"min_temp\": [], \"max_temp\": [], \"pressure\": [], \"wind\": []}\n",
    "\n",
    "for i in main_keys:\n",
    "    df_requested[\"sol_day\"].append(i)\n",
    "    df_requested[\"date\"].append(requested[i]['Last_UTC'])\n",
    "    df_requested[\"min_temp\"].append(requested[i]['AT'][\"mn\"])\n",
    "    df_requested[\"max_temp\"].append(requested[i]['AT'][\"mx\"])\n",
    "    df_requested[\"pressure\"].append(requested[i]['PRE'][\"av\"])\n",
    "    df_requested[\"wind\"].append(requested[i][\"WD\"])\n",
    "\n",
    "df_requested = pd.DataFrame(df_requested)\n",
    "data = df_requested.to_dict(orient='records')\n",
    "\n",
    "db = client.get_database(\"MarsWeather\")\n",
    "collection = db.get_collection(\"DailyWeather\")\n",
    "update_count = 0\n",
    "for record in data:\n",
    "    result = collection.replace_one(\n",
    "        filter={'sol_day': record['sol_day']},    # locate the document if exists\n",
    "        replacement=record,                         # latest document\n",
    "        upsert=True)                                # update if exists, insert if not\n",
    "    if result.matched_count > 0:\n",
    "        update_count += 1\n",
    "logger.info(\"rows={}, update={}, \".format(df_requested.shape[0], update_count) +\n",
    "                \"insert={}\".format(df_requested.shape[0]-update_count))\n",
    "\n",
    "display(df_requested)\n",
    "\n",
    "db = client.get_database(\"MarsWeather\")\n",
    "collection = db.get_collection(\"DailyWeather\")\n",
    "return list(collection.find())"
   ]
  }
 ],
 "metadata": {
  "kernelspec": {
   "display_name": "Python 3",
   "language": "python",
   "name": "python3"
  },
  "language_info": {
   "codemirror_mode": {
    "name": "ipython",
    "version": 3
   },
   "file_extension": ".py",
   "mimetype": "text/x-python",
   "name": "python",
   "nbconvert_exporter": "python",
   "pygments_lexer": "ipython3",
   "version": "3.7.4"
  }
 },
 "nbformat": 4,
 "nbformat_minor": 2
}
