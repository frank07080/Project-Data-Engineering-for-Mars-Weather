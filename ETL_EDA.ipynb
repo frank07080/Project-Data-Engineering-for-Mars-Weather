{
 "cells": [
  {
   "cell_type": "markdown",
   "metadata": {},
   "source": [
    "# ETL_EDA\n",
    "This file records the process of acquiring raw data, traforming them, and loading them into a MongoDB. "
   ]
  },
  {
   "cell_type": "code",
   "execution_count": 1,
   "metadata": {},
   "outputs": [],
   "source": [
    "import requests\n",
    "import json\n",
    "import numpy as np\n",
    "import pandas as pd\n",
    "import logging\n",
    "import utils\n",
    "import sched\n",
    "import time\n",
    "import pymongo"
   ]
  },
  {
   "cell_type": "markdown",
   "metadata": {},
   "source": [
    "## 1. Raw Data from NASA \n",
    "The [dataset](https://api.nasa.gov/assets/insight/InSight%20Weather%20API%20Documentation.pdf) is a continuously updated json file. It contains data of Mars weather in the past seven days. It can be retrieved simply by making `requests` without parameters. Data is updated every Martian day, which is 37 minutes longer than earth day. "
   ]
  },
  {
   "cell_type": "code",
   "execution_count": 5,
   "metadata": {},
   "outputs": [],
   "source": [
    "key = \"j8jSUUXusA5glsJa3q5bQaDad6sE4H2u9K5rFbST\"\n",
    "requested = requests.get(f\"https://api.nasa.gov/insight_weather/?api_key={key}&feedtype=json&ver=1.0\").text    # Download data\n",
    "requested"
   ]
  },
  {
   "cell_type": "markdown",
   "metadata": {},
   "source": [
    "## 2. Raw Data to Documents/Dicts\n",
    "Using json and pandas package, we can easily transform downloaded json files into workable dataframe. We take sol days as keys, extract min, max temperature, atmosphere pressure and wind directions as values for each day. But not all data is valid. To deal with this, we check the validity value of each subject for each day, then replace missing values with last day's corresponding value. Now the data can be easily converted to a list of dicts which is what we want for the MongoDB."
   ]
  },
  {
   "cell_type": "code",
   "execution_count": 6,
   "metadata": {},
   "outputs": [],
   "source": [
    "requested = json.loads(requested)    # Transform data into dictionary\n",
    "main_keys = requested['sol_keys']    # Take sol days as unique keys\n",
    "def valid_check(subject, index):\n",
    "    \"\"\"Check if value is valid\"\"\"\n",
    "    return requested['validity_checks'][index][subject]['valid']\n",
    "\n",
    "# Create a dict to store all data, set default value to -1\n",
    "df_requested = {\"sol_day\": [-1], \"date\": [-1], \"min_temp\": [-1], \"max_temp\": [-1], \"pressure\": [-1], \"wind\": [-1]}\n",
    "\n",
    "for i in main_keys:\n",
    "    # Write data into dict\n",
    "    df_requested[\"sol_day\"].append(i)\n",
    "    df_requested[\"date\"].append(requested[i]['Last_UTC'])\n",
    "    # If data is not valid/empty, use the last value\n",
    "    df_requested[\"min_temp\"].append(requested[i]['AT'][\"mn\"] if valid_check('AT', i) else df_requested[\"min_temp\"][-1])\n",
    "    df_requested[\"max_temp\"].append(requested[i]['AT'][\"mx\"] if valid_check('AT', i) else df_requested[\"max_temp\"][-1])\n",
    "    df_requested[\"pressure\"].append(requested[i]['PRE'][\"av\"] if valid_check('PRE', i) else df_requested[\"pressure\"][-1])\n",
    "    df_requested[\"wind\"].append(requested[i][\"WD\"] if valid_check('WD', i) else df_requested[\"wind\"][-1])\n",
    "\n",
    "# Convert to dataframe\n",
    "df_requested = pd.DataFrame(df_requested)\n",
    "df_requested.drop(0, inplace=True)\n",
    "data = df_requested.to_dict(orient='records')"
   ]
  },
  {
   "cell_type": "code",
   "execution_count": 7,
   "metadata": {},
   "outputs": [
    {
     "data": {
      "text/html": [
       "<div>\n",
       "<style scoped>\n",
       "    .dataframe tbody tr th:only-of-type {\n",
       "        vertical-align: middle;\n",
       "    }\n",
       "\n",
       "    .dataframe tbody tr th {\n",
       "        vertical-align: top;\n",
       "    }\n",
       "\n",
       "    .dataframe thead th {\n",
       "        text-align: right;\n",
       "    }\n",
       "</style>\n",
       "<table border=\"1\" class=\"dataframe\">\n",
       "  <thead>\n",
       "    <tr style=\"text-align: right;\">\n",
       "      <th></th>\n",
       "      <th>sol_day</th>\n",
       "      <th>date</th>\n",
       "      <th>min_temp</th>\n",
       "      <th>max_temp</th>\n",
       "      <th>pressure</th>\n",
       "      <th>wind</th>\n",
       "    </tr>\n",
       "  </thead>\n",
       "  <tbody>\n",
       "    <tr>\n",
       "      <th>1</th>\n",
       "      <td>370</td>\n",
       "      <td>2019-12-12T09:57:46Z</td>\n",
       "      <td>-98.970</td>\n",
       "      <td>-19.470</td>\n",
       "      <td>658.193</td>\n",
       "      <td>{'0': {'compass_degrees': 0.0, 'compass_point'...</td>\n",
       "    </tr>\n",
       "    <tr>\n",
       "      <th>2</th>\n",
       "      <td>371</td>\n",
       "      <td>2019-12-13T10:37:21Z</td>\n",
       "      <td>-96.625</td>\n",
       "      <td>-19.785</td>\n",
       "      <td>657.663</td>\n",
       "      <td>{'0': {'compass_degrees': 0.0, 'compass_point'...</td>\n",
       "    </tr>\n",
       "    <tr>\n",
       "      <th>3</th>\n",
       "      <td>372</td>\n",
       "      <td>2019-12-14T11:16:56Z</td>\n",
       "      <td>-97.195</td>\n",
       "      <td>-21.232</td>\n",
       "      <td>656.774</td>\n",
       "      <td>{'1': {'compass_degrees': 22.5, 'compass_point...</td>\n",
       "    </tr>\n",
       "    <tr>\n",
       "      <th>4</th>\n",
       "      <td>373</td>\n",
       "      <td>2019-12-15T11:56:31Z</td>\n",
       "      <td>-98.115</td>\n",
       "      <td>-20.061</td>\n",
       "      <td>656.752</td>\n",
       "      <td>{'0': {'compass_degrees': 0.0, 'compass_point'...</td>\n",
       "    </tr>\n",
       "    <tr>\n",
       "      <th>5</th>\n",
       "      <td>374</td>\n",
       "      <td>2019-12-16T12:36:07Z</td>\n",
       "      <td>-97.305</td>\n",
       "      <td>-21.154</td>\n",
       "      <td>654.061</td>\n",
       "      <td>{'0': {'compass_degrees': 0.0, 'compass_point'...</td>\n",
       "    </tr>\n",
       "  </tbody>\n",
       "</table>\n",
       "</div>"
      ],
      "text/plain": [
       "  sol_day                  date  min_temp  max_temp  pressure  \\\n",
       "1     370  2019-12-12T09:57:46Z   -98.970   -19.470   658.193   \n",
       "2     371  2019-12-13T10:37:21Z   -96.625   -19.785   657.663   \n",
       "3     372  2019-12-14T11:16:56Z   -97.195   -21.232   656.774   \n",
       "4     373  2019-12-15T11:56:31Z   -98.115   -20.061   656.752   \n",
       "5     374  2019-12-16T12:36:07Z   -97.305   -21.154   654.061   \n",
       "\n",
       "                                                wind  \n",
       "1  {'0': {'compass_degrees': 0.0, 'compass_point'...  \n",
       "2  {'0': {'compass_degrees': 0.0, 'compass_point'...  \n",
       "3  {'1': {'compass_degrees': 22.5, 'compass_point...  \n",
       "4  {'0': {'compass_degrees': 0.0, 'compass_point'...  \n",
       "5  {'0': {'compass_degrees': 0.0, 'compass_point'...  "
      ]
     },
     "execution_count": 7,
     "metadata": {},
     "output_type": "execute_result"
    }
   ],
   "source": [
    "df_requested.head()"
   ]
  },
  {
   "cell_type": "code",
   "execution_count": 9,
   "metadata": {},
   "outputs": [
    {
     "name": "stdout",
     "output_type": "stream",
     "text": [
      "{'sol_day': '370', 'date': '2019-12-12T09:57:46Z', 'min_temp': -98.97, 'max_temp': -19.47, 'pressure': 658.193, 'wind': {'0': {'compass_degrees': 0.0, 'compass_point': 'N', 'compass_right': 0.0, 'compass_up': 1.0, 'ct': 4}, '1': {'compass_degrees': 22.5, 'compass_point': 'NNE', 'compass_right': 0.382683432365, 'compass_up': 0.923879532511, 'ct': 2}, '10': {'compass_degrees': 225.0, 'compass_point': 'SW', 'compass_right': -0.707106781187, 'compass_up': -0.707106781187, 'ct': 28893}, '11': {'compass_degrees': 247.5, 'compass_point': 'WSW', 'compass_right': -0.923879532511, 'compass_up': -0.382683432365, 'ct': 9754}, '12': {'compass_degrees': 270.0, 'compass_point': 'W', 'compass_right': -1.0, 'compass_up': -0.0, 'ct': 6898}, '13': {'compass_degrees': 292.5, 'compass_point': 'WNW', 'compass_right': -0.923879532511, 'compass_up': 0.382683432365, 'ct': 754}, '14': {'compass_degrees': 315.0, 'compass_point': 'NW', 'compass_right': -0.707106781187, 'compass_up': 0.707106781187, 'ct': 432}, '15': {'compass_degrees': 337.5, 'compass_point': 'NNW', 'compass_right': -0.382683432365, 'compass_up': 0.923879532511, 'ct': 66}, '3': {'compass_degrees': 67.5, 'compass_point': 'ENE', 'compass_right': 0.923879532511, 'compass_up': 0.382683432365, 'ct': 767}, '5': {'compass_degrees': 112.5, 'compass_point': 'ESE', 'compass_right': 0.923879532511, 'compass_up': -0.382683432365, 'ct': 711}, '6': {'compass_degrees': 135.0, 'compass_point': 'SE', 'compass_right': 0.707106781187, 'compass_up': -0.707106781187, 'ct': 17180}, '7': {'compass_degrees': 157.5, 'compass_point': 'SSE', 'compass_right': 0.382683432365, 'compass_up': -0.923879532511, 'ct': 30781}, '8': {'compass_degrees': 180.0, 'compass_point': 'S', 'compass_right': 0.0, 'compass_up': -1.0, 'ct': 18526}, '9': {'compass_degrees': 202.5, 'compass_point': 'SSW', 'compass_right': -0.382683432365, 'compass_up': -0.923879532511, 'ct': 17198}, 'most_common': {'compass_degrees': 157.5, 'compass_point': 'SSE', 'compass_right': 0.382683432365, 'compass_up': -0.923879532511, 'ct': 30781}}}\n"
     ]
    }
   ],
   "source": [
    "print(data[0])"
   ]
  },
  {
   "cell_type": "markdown",
   "metadata": {},
   "source": [
    "## 3. Upsert MongoDB\n",
    "If we fetch the data frequently, there are lots of duplicate data entry between each run. The de-duplication happens at insertion. The MongoDB API to use is `collection.replace_one(filter=..., replacement=..., upsert=True)`. The statement matches a document in MongoDB with `filter`, replaces it with `replacement` if the document exists or inserts `replacement` into the database if `filter` matches nothing. Credit to [Martin Ma](https://github.com/blownhither). "
   ]
  },
  {
   "cell_type": "code",
   "execution_count": 10,
   "metadata": {},
   "outputs": [
    {
     "name": "stdout",
     "output_type": "stream",
     "text": [
      "rows=7, update=3, insert=4\n"
     ]
    }
   ],
   "source": [
    "client = pymongo.MongoClient('localhost', 27017)\n",
    "db = client.get_database(\"MarsWeather\")\n",
    "collection = db.get_collection(\"DailyWeather\")\n",
    "update_count = 0\n",
    "for record in data:\n",
    "    result = collection.replace_one(\n",
    "        filter={'sol_day': record['sol_day']},    # locate the document if exists\n",
    "        replacement=record,                         # latest document\n",
    "        upsert=True)                                # update if exists, insert if not\n",
    "    if result.matched_count > 0:\n",
    "        update_count += 1\n",
    "print(f\"rows={df_requested.shape[0]}, update={update_count}, \"\n",
    "      f\"insert={df_requested.shape[0]-update_count}\")"
   ]
  }
 ],
 "metadata": {
  "kernelspec": {
   "display_name": "Python 3",
   "language": "python",
   "name": "python3"
  },
  "language_info": {
   "codemirror_mode": {
    "name": "ipython",
    "version": 3
   },
   "file_extension": ".py",
   "mimetype": "text/x-python",
   "name": "python",
   "nbconvert_exporter": "python",
   "pygments_lexer": "ipython3",
   "version": "3.7.3"
  }
 },
 "nbformat": 4,
 "nbformat_minor": 2
}
