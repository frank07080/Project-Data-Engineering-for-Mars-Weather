{
 "cells": [
  {
   "cell_type": "markdown",
   "metadata": {},
   "source": [
    "# Enhancement"
   ]
  },
  {
   "cell_type": "code",
   "execution_count": 213,
   "metadata": {},
   "outputs": [],
   "source": [
    "import requests\n",
    "import json\n",
    "import numpy as np\n",
    "import pandas as pd\n",
    "from statsmodels.tsa.api import VAR\n",
    "from matplotlib import pylab as plt\n",
    "from sklearn.ensemble import RandomForestRegressor\n",
    "from sklearn.experimental import enable_iterative_imputer\n",
    "from sklearn.impute import IterativeImputer\n",
    "import pymongo\n",
    "import plotly.express as px\n",
    "import plotly.graph_objects as go\n",
    "import plotly.io as pio\n",
    "from plotly.subplots import make_subplots\n",
    "import pickle\n",
    "pio.templates.default = \"plotly_dark\""
   ]
  },
  {
   "cell_type": "markdown",
   "metadata": {},
   "source": [
    "## 1. Retrieve Data from MongoDB\n",
    "Retreive all documents from MongoDB and convrt it to a `pandas.DataFrame`"
   ]
  },
  {
   "cell_type": "code",
   "execution_count": 214,
   "metadata": {},
   "outputs": [
    {
     "data": {
      "text/html": [
       "<div>\n",
       "<style scoped>\n",
       "    .dataframe tbody tr th:only-of-type {\n",
       "        vertical-align: middle;\n",
       "    }\n",
       "\n",
       "    .dataframe tbody tr th {\n",
       "        vertical-align: top;\n",
       "    }\n",
       "\n",
       "    .dataframe thead th {\n",
       "        text-align: right;\n",
       "    }\n",
       "</style>\n",
       "<table border=\"1\" class=\"dataframe\">\n",
       "  <thead>\n",
       "    <tr style=\"text-align: right;\">\n",
       "      <th></th>\n",
       "      <th>_id</th>\n",
       "      <th>date</th>\n",
       "      <th>max_temp</th>\n",
       "      <th>min_temp</th>\n",
       "      <th>pressure</th>\n",
       "      <th>sol_day</th>\n",
       "      <th>wind</th>\n",
       "    </tr>\n",
       "  </thead>\n",
       "  <tbody>\n",
       "    <tr>\n",
       "      <th>0</th>\n",
       "      <td>5df3f5f44313285b4fdcc1e3</td>\n",
       "      <td>2019-12-04T04:41:02Z</td>\n",
       "      <td>-21.174</td>\n",
       "      <td>-98.548</td>\n",
       "      <td>665.169</td>\n",
       "      <td>361</td>\n",
       "      <td>{'1': {'compass_degrees': 22.5, 'compass_point...</td>\n",
       "    </tr>\n",
       "    <tr>\n",
       "      <th>1</th>\n",
       "      <td>5df3f5f44313285b4fdcc1e5</td>\n",
       "      <td>2019-12-05T05:20:37Z</td>\n",
       "      <td>-21.075</td>\n",
       "      <td>-99.804</td>\n",
       "      <td>664.490</td>\n",
       "      <td>362</td>\n",
       "      <td>{'0': {'compass_degrees': 0.0, 'compass_point'...</td>\n",
       "    </tr>\n",
       "    <tr>\n",
       "      <th>2</th>\n",
       "      <td>5df3f5f44313285b4fdcc1e7</td>\n",
       "      <td>2019-12-06T06:00:12Z</td>\n",
       "      <td>-20.347</td>\n",
       "      <td>-99.893</td>\n",
       "      <td>663.455</td>\n",
       "      <td>363</td>\n",
       "      <td>{'0': {'compass_degrees': 0.0, 'compass_point'...</td>\n",
       "    </tr>\n",
       "    <tr>\n",
       "      <th>3</th>\n",
       "      <td>5df3f5f44313285b4fdcc1e9</td>\n",
       "      <td>2019-12-06T06:00:12Z</td>\n",
       "      <td>-20.347</td>\n",
       "      <td>-99.893</td>\n",
       "      <td>663.455</td>\n",
       "      <td>364</td>\n",
       "      <td>{'0': {'compass_degrees': 0.0, 'compass_point'...</td>\n",
       "    </tr>\n",
       "    <tr>\n",
       "      <th>4</th>\n",
       "      <td>5df3f5f44313285b4fdcc1eb</td>\n",
       "      <td>2019-12-07T06:39:47Z</td>\n",
       "      <td>-21.531</td>\n",
       "      <td>-98.800</td>\n",
       "      <td>662.454</td>\n",
       "      <td>365</td>\n",
       "      <td>{'0': {'compass_degrees': 0.0, 'compass_point'...</td>\n",
       "    </tr>\n",
       "    <tr>\n",
       "      <th>5</th>\n",
       "      <td>5df3f5f44313285b4fdcc1ed</td>\n",
       "      <td>2019-12-08T00:34:43Z</td>\n",
       "      <td>-20.442</td>\n",
       "      <td>-98.941</td>\n",
       "      <td>660.866</td>\n",
       "      <td>366</td>\n",
       "      <td>{'10': {'compass_degrees': 225.0, 'compass_poi...</td>\n",
       "    </tr>\n",
       "    <tr>\n",
       "      <th>6</th>\n",
       "      <td>5df3f5f44313285b4fdcc1ef</td>\n",
       "      <td>2019-12-09T07:58:59Z</td>\n",
       "      <td>-20.914</td>\n",
       "      <td>-139.936</td>\n",
       "      <td>661.043</td>\n",
       "      <td>367</td>\n",
       "      <td>{'1': {'compass_degrees': 22.5, 'compass_point...</td>\n",
       "    </tr>\n",
       "    <tr>\n",
       "      <th>7</th>\n",
       "      <td>5df3f5f44313285b4fdcc1f1</td>\n",
       "      <td>2019-12-10T08:38:35Z</td>\n",
       "      <td>-20.919</td>\n",
       "      <td>-100.049</td>\n",
       "      <td>660.436</td>\n",
       "      <td>368</td>\n",
       "      <td>{'1': {'compass_degrees': 22.5, 'compass_point...</td>\n",
       "    </tr>\n",
       "    <tr>\n",
       "      <th>8</th>\n",
       "      <td>5df3f5f44313285b4fdcc1f3</td>\n",
       "      <td>2019-12-11T09:18:10Z</td>\n",
       "      <td>-21.164</td>\n",
       "      <td>-98.234</td>\n",
       "      <td>659.424</td>\n",
       "      <td>369</td>\n",
       "      <td>{'1': {'compass_degrees': 22.5, 'compass_point...</td>\n",
       "    </tr>\n",
       "    <tr>\n",
       "      <th>9</th>\n",
       "      <td>5df3f5f44313285b4fdcc1f5</td>\n",
       "      <td>2019-12-12T09:57:46Z</td>\n",
       "      <td>-19.470</td>\n",
       "      <td>-98.970</td>\n",
       "      <td>658.193</td>\n",
       "      <td>370</td>\n",
       "      <td>{'0': {'compass_degrees': 0.0, 'compass_point'...</td>\n",
       "    </tr>\n",
       "    <tr>\n",
       "      <th>10</th>\n",
       "      <td>5df41cba4313285b4fdcd033</td>\n",
       "      <td>2019-12-13T10:37:21Z</td>\n",
       "      <td>-19.785</td>\n",
       "      <td>-96.625</td>\n",
       "      <td>657.663</td>\n",
       "      <td>371</td>\n",
       "      <td>{'0': {'compass_degrees': 0.0, 'compass_point'...</td>\n",
       "    </tr>\n",
       "    <tr>\n",
       "      <th>11</th>\n",
       "      <td>5df57b5e4313285b4fdd17cc</td>\n",
       "      <td>2019-12-14T11:16:56Z</td>\n",
       "      <td>-21.232</td>\n",
       "      <td>-97.195</td>\n",
       "      <td>656.774</td>\n",
       "      <td>372</td>\n",
       "      <td>{'1': {'compass_degrees': 22.5, 'compass_point...</td>\n",
       "    </tr>\n",
       "    <tr>\n",
       "      <th>12</th>\n",
       "      <td>5dfb0bc2c624ba0e3f2c5a1b</td>\n",
       "      <td>2019-12-15T11:56:31Z</td>\n",
       "      <td>-20.061</td>\n",
       "      <td>-98.115</td>\n",
       "      <td>656.752</td>\n",
       "      <td>373</td>\n",
       "      <td>{'0': {'compass_degrees': 0.0, 'compass_point'...</td>\n",
       "    </tr>\n",
       "    <tr>\n",
       "      <th>13</th>\n",
       "      <td>5dfb0bc2c624ba0e3f2c5a1d</td>\n",
       "      <td>2019-12-16T12:36:07Z</td>\n",
       "      <td>-21.154</td>\n",
       "      <td>-97.305</td>\n",
       "      <td>654.061</td>\n",
       "      <td>374</td>\n",
       "      <td>{'0': {'compass_degrees': 0.0, 'compass_point'...</td>\n",
       "    </tr>\n",
       "    <tr>\n",
       "      <th>14</th>\n",
       "      <td>5dfb0bc2c624ba0e3f2c5a1f</td>\n",
       "      <td>2019-12-17T13:15:42Z</td>\n",
       "      <td>-19.756</td>\n",
       "      <td>-97.539</td>\n",
       "      <td>654.749</td>\n",
       "      <td>375</td>\n",
       "      <td>{'0': {'compass_degrees': 0.0, 'compass_point'...</td>\n",
       "    </tr>\n",
       "    <tr>\n",
       "      <th>15</th>\n",
       "      <td>5dfb0bc2c624ba0e3f2c5a21</td>\n",
       "      <td>2019-12-18T13:55:16Z</td>\n",
       "      <td>-19.278</td>\n",
       "      <td>-98.188</td>\n",
       "      <td>651.546</td>\n",
       "      <td>376</td>\n",
       "      <td>{'1': {'compass_degrees': 22.5, 'compass_point...</td>\n",
       "    </tr>\n",
       "  </tbody>\n",
       "</table>\n",
       "</div>"
      ],
      "text/plain": [
       "                         _id                  date  max_temp  min_temp  \\\n",
       "0   5df3f5f44313285b4fdcc1e3  2019-12-04T04:41:02Z   -21.174   -98.548   \n",
       "1   5df3f5f44313285b4fdcc1e5  2019-12-05T05:20:37Z   -21.075   -99.804   \n",
       "2   5df3f5f44313285b4fdcc1e7  2019-12-06T06:00:12Z   -20.347   -99.893   \n",
       "3   5df3f5f44313285b4fdcc1e9  2019-12-06T06:00:12Z   -20.347   -99.893   \n",
       "4   5df3f5f44313285b4fdcc1eb  2019-12-07T06:39:47Z   -21.531   -98.800   \n",
       "5   5df3f5f44313285b4fdcc1ed  2019-12-08T00:34:43Z   -20.442   -98.941   \n",
       "6   5df3f5f44313285b4fdcc1ef  2019-12-09T07:58:59Z   -20.914  -139.936   \n",
       "7   5df3f5f44313285b4fdcc1f1  2019-12-10T08:38:35Z   -20.919  -100.049   \n",
       "8   5df3f5f44313285b4fdcc1f3  2019-12-11T09:18:10Z   -21.164   -98.234   \n",
       "9   5df3f5f44313285b4fdcc1f5  2019-12-12T09:57:46Z   -19.470   -98.970   \n",
       "10  5df41cba4313285b4fdcd033  2019-12-13T10:37:21Z   -19.785   -96.625   \n",
       "11  5df57b5e4313285b4fdd17cc  2019-12-14T11:16:56Z   -21.232   -97.195   \n",
       "12  5dfb0bc2c624ba0e3f2c5a1b  2019-12-15T11:56:31Z   -20.061   -98.115   \n",
       "13  5dfb0bc2c624ba0e3f2c5a1d  2019-12-16T12:36:07Z   -21.154   -97.305   \n",
       "14  5dfb0bc2c624ba0e3f2c5a1f  2019-12-17T13:15:42Z   -19.756   -97.539   \n",
       "15  5dfb0bc2c624ba0e3f2c5a21  2019-12-18T13:55:16Z   -19.278   -98.188   \n",
       "\n",
       "    pressure sol_day                                               wind  \n",
       "0    665.169     361  {'1': {'compass_degrees': 22.5, 'compass_point...  \n",
       "1    664.490     362  {'0': {'compass_degrees': 0.0, 'compass_point'...  \n",
       "2    663.455     363  {'0': {'compass_degrees': 0.0, 'compass_point'...  \n",
       "3    663.455     364  {'0': {'compass_degrees': 0.0, 'compass_point'...  \n",
       "4    662.454     365  {'0': {'compass_degrees': 0.0, 'compass_point'...  \n",
       "5    660.866     366  {'10': {'compass_degrees': 225.0, 'compass_poi...  \n",
       "6    661.043     367  {'1': {'compass_degrees': 22.5, 'compass_point...  \n",
       "7    660.436     368  {'1': {'compass_degrees': 22.5, 'compass_point...  \n",
       "8    659.424     369  {'1': {'compass_degrees': 22.5, 'compass_point...  \n",
       "9    658.193     370  {'0': {'compass_degrees': 0.0, 'compass_point'...  \n",
       "10   657.663     371  {'0': {'compass_degrees': 0.0, 'compass_point'...  \n",
       "11   656.774     372  {'1': {'compass_degrees': 22.5, 'compass_point...  \n",
       "12   656.752     373  {'0': {'compass_degrees': 0.0, 'compass_point'...  \n",
       "13   654.061     374  {'0': {'compass_degrees': 0.0, 'compass_point'...  \n",
       "14   654.749     375  {'0': {'compass_degrees': 0.0, 'compass_point'...  \n",
       "15   651.546     376  {'1': {'compass_degrees': 22.5, 'compass_point...  "
      ]
     },
     "execution_count": 214,
     "metadata": {},
     "output_type": "execute_result"
    }
   ],
   "source": [
    "# Read data from MongoDB\n",
    "client = pymongo.MongoClient()\n",
    "db = client.get_database(\"MarsWeather\")\n",
    "collection = db.get_collection(\"DailyWeather\")\n",
    "df = pd.DataFrame(list(collection.find()))\n",
    "df"
   ]
  },
  {
   "cell_type": "markdown",
   "metadata": {},
   "source": [
    "## 2 Temperature and weather predition\n",
    "We use vector autoregression to make the predictions. Each of the graph includes the historical weather of the past 7 days \n",
    "        and the prediction of the max, min temperature, and the average atmospheric pressure respectively. \n",
    "        The solid line records the historical data, while the dashed line shows the predictions. \n",
    "        The band around the dashed line presents the 95% confidence interval of the predictions. \n",
    "        It gets wider as there exists more uncertainty into the farther future.  \n",
    "        User adjust the predicted days ahead by moving the slider horizontally. \n"
   ]
  },
  {
   "cell_type": "markdown",
   "metadata": {},
   "source": [
    "### 2.1 Train model"
   ]
  },
  {
   "cell_type": "code",
   "execution_count": 215,
   "metadata": {},
   "outputs": [
    {
     "data": {
      "text/html": [
       "<div>\n",
       "<style scoped>\n",
       "    .dataframe tbody tr th:only-of-type {\n",
       "        vertical-align: middle;\n",
       "    }\n",
       "\n",
       "    .dataframe tbody tr th {\n",
       "        vertical-align: top;\n",
       "    }\n",
       "\n",
       "    .dataframe thead th {\n",
       "        text-align: right;\n",
       "    }\n",
       "</style>\n",
       "<table border=\"1\" class=\"dataframe\">\n",
       "  <thead>\n",
       "    <tr style=\"text-align: right;\">\n",
       "      <th></th>\n",
       "      <th>min_temp</th>\n",
       "      <th>max_temp</th>\n",
       "      <th>pressure</th>\n",
       "    </tr>\n",
       "  </thead>\n",
       "  <tbody>\n",
       "    <tr>\n",
       "      <th>32</th>\n",
       "      <td>-78.0</td>\n",
       "      <td>-22.0</td>\n",
       "      <td>754.0</td>\n",
       "    </tr>\n",
       "    <tr>\n",
       "      <th>33</th>\n",
       "      <td>-80.0</td>\n",
       "      <td>-21.0</td>\n",
       "      <td>755.0</td>\n",
       "    </tr>\n",
       "    <tr>\n",
       "      <th>34</th>\n",
       "      <td>-78.0</td>\n",
       "      <td>-28.0</td>\n",
       "      <td>756.0</td>\n",
       "    </tr>\n",
       "    <tr>\n",
       "      <th>35</th>\n",
       "      <td>-78.0</td>\n",
       "      <td>-27.0</td>\n",
       "      <td>757.0</td>\n",
       "    </tr>\n",
       "    <tr>\n",
       "      <th>36</th>\n",
       "      <td>-77.0</td>\n",
       "      <td>-20.0</td>\n",
       "      <td>758.0</td>\n",
       "    </tr>\n",
       "  </tbody>\n",
       "</table>\n",
       "</div>"
      ],
      "text/plain": [
       "    min_temp  max_temp  pressure\n",
       "32     -78.0     -22.0     754.0\n",
       "33     -80.0     -21.0     755.0\n",
       "34     -78.0     -28.0     756.0\n",
       "35     -78.0     -27.0     757.0\n",
       "36     -77.0     -20.0     758.0"
      ]
     },
     "execution_count": 215,
     "metadata": {},
     "output_type": "execute_result"
    }
   ],
   "source": [
    "# Clean data\n",
    "df_train = pd.read_csv(\"mars_weather.csv\")\n",
    "# Take the time needed to train\n",
    "df_train = df_train[(df_train['sol'] >= 1815) & (df_train['sol'] <= 1945)]\n",
    "df_test = pd.read_csv(\"mars_weather.csv\")\n",
    "# Split test\n",
    "df_test = df_test[(df_test['sol'] >= 1946) & (df_test['sol'] <= 1976)]\n",
    "df_train.drop([\"id\", \"terrestrial_date\", \"sol\", \"ls\", \"month\", \"wind_speed\", \"atmo_opacity\"], \n",
    "        axis=1, inplace=True)\n",
    "df_test.drop([\"id\", \"terrestrial_date\", \"sol\", \"ls\", \"month\", \"wind_speed\", \"atmo_opacity\"], \n",
    "        axis=1, inplace=True)\n",
    "df_train.head()"
   ]
  },
  {
   "cell_type": "code",
   "execution_count": 216,
   "metadata": {},
   "outputs": [
    {
     "data": {
      "image/png": "[encoded data removed]",
      "text/plain": [
       "<Figure size 432x288 with 1 Axes>"
      ]
     },
     "metadata": {
      "needs_background": "light"
     },
     "output_type": "display_data"
    },
    {
     "data": {
      "image/png": "[encoded data removed]",
      "text/plain": [
       "<Figure size 432x288 with 1 Axes>"
      ]
     },
     "metadata": {
      "needs_background": "light"
     },
     "output_type": "display_data"
    },
    {
     "data": {
      "image/png": "[encoded data removed]",
      "text/plain": [
       "<Figure size 432x288 with 1 Axes>"
      ]
     },
     "metadata": {
      "needs_background": "light"
     },
     "output_type": "display_data"
    }
   ],
   "source": [
    "# Plot for three subjects\n",
    "subjects = [\"pressure\", \"max_temp\", \"min_temp\"]\n",
    "for subject in subjects:\n",
    "    plt.plot(df_train[subject])\n",
    "    plt.title(subject)\n",
    "    plt.show()"
   ]
  },
  {
   "cell_type": "markdown",
   "metadata": {},
   "source": [
    "Not stable, need to take order 1 differnce. From the figures below, we can see the subjects are stable. "
   ]
  },
  {
   "cell_type": "code",
   "execution_count": 217,
   "metadata": {},
   "outputs": [
    {
     "data": {
      "image/png": "[encoded data removed]",
      "text/plain": [
       "<Figure size 432x288 with 1 Axes>"
      ]
     },
     "metadata": {
      "needs_background": "light"
     },
     "output_type": "display_data"
    },
    {
     "data": {
      "image/png": "[encoded data removed]",
      "text/plain": [
       "<Figure size 432x288 with 1 Axes>"
      ]
     },
     "metadata": {
      "needs_background": "light"
     },
     "output_type": "display_data"
    },
    {
     "data": {
      "image/png": "[encoded data removed]",
      "text/plain": [
       "<Figure size 432x288 with 1 Axes>"
      ]
     },
     "metadata": {
      "needs_background": "light"
     },
     "output_type": "display_data"
    }
   ],
   "source": [
    "def diff_data(df):\n",
    "    \"\"\"Take a dataframe, return differenced dataframe\"\"\"\n",
    "    df_diff = {}\n",
    "    for subject in subjects:\n",
    "        temp = []\n",
    "        index = df.index\n",
    "        end, start = index[-1], index[1]\n",
    "        for i in range(end - 1, start, -1):\n",
    "            temp.append(df[subject][i] - df[subject][i - 1])\n",
    "        df_diff[subject] = temp\n",
    "    df_diff = pd.DataFrame(df_diff)\n",
    "    return df_diff\n",
    "\n",
    "# Take order 1 diff on all subjects\n",
    "df_diff = diff_data(df_train)\n",
    "\n",
    "# Plot for three subjects after diff\n",
    "subjects = [\"pressure\", \"max_temp\", \"min_temp\"]\n",
    "for subject in subjects:\n",
    "    plt.plot(df_diff[subject])\n",
    "    plt.title(subject)\n",
    "    plt.show()"
   ]
  },
  {
   "cell_type": "code",
   "execution_count": 218,
   "metadata": {},
   "outputs": [],
   "source": [
    "# Impute with random forest\n",
    "rf_imputer = IterativeImputer(estimator = \n",
    "               RandomForestRegressor(max_depth=2, n_estimators=30, n_jobs=-1), \n",
    "                               random_state=42)\n",
    "x_impute = rf_imputer.fit_transform(df_train)\n",
    "x_impute = pd.DataFrame(x_impute, columns = df_train.columns)\n",
    "x_impute_origin = x_impute\n",
    "model_origin = VAR(x_impute_origin)"
   ]
  },
  {
   "cell_type": "code",
   "execution_count": 219,
   "metadata": {},
   "outputs": [
    {
     "data": {
      "text/plain": [
       "9.751590869989874"
      ]
     },
     "execution_count": 219,
     "metadata": {},
     "output_type": "execute_result"
    }
   ],
   "source": [
    "# Baseline model, VAR(0)\n",
    "lag = 0\n",
    "base = model_origin.fit(lag)\n",
    "base.bic"
   ]
  },
  {
   "cell_type": "code",
   "execution_count": 220,
   "metadata": {},
   "outputs": [
    {
     "data": {
      "text/plain": [
       "2.190161786329473"
      ]
     },
     "execution_count": 220,
     "metadata": {},
     "output_type": "execute_result"
    }
   ],
   "source": [
    "# Best model, VAR(3)\n",
    "lag = 3\n",
    "results_origin = model_origin.fit(lag)\n",
    "results_origin.bic"
   ]
  },
  {
   "cell_type": "markdown",
   "metadata": {},
   "source": [
    "## 3 MSE on Test set\n",
    "Use next month to test, we can see that MSE on test is lower for our model than the baseline"
   ]
  },
  {
   "cell_type": "code",
   "execution_count": 221,
   "metadata": {},
   "outputs": [
    {
     "data": {
      "text/plain": [
       "21.62962962962963"
      ]
     },
     "execution_count": 221,
     "metadata": {},
     "output_type": "execute_result"
    }
   ],
   "source": [
    "base_mse = 0\n",
    "for subject in subjects:\n",
    "    base_mse += np.square(np.subtract(df_test[subject][3:30], df_test[subject][4:31])).mean()\n",
    "base_mse"
   ]
  },
  {
   "cell_type": "code",
   "execution_count": 222,
   "metadata": {},
   "outputs": [
    {
     "data": {
      "text/plain": [
       "16.546305229973967"
      ]
     },
     "execution_count": 222,
     "metadata": {},
     "output_type": "execute_result"
    }
   ],
   "source": [
    "res_pred, result_mse = [], 0\n",
    "for i in range(3, 30):\n",
    "    res_pred.append(results_origin.forecast(df_test[['min_temp', 'max_temp', 'pressure']].iloc[i-3:i].values, 1)[0])\n",
    "res_pred = pd.DataFrame(res_pred, columns=[\"min_temp\", \"max_temp\", \"pressure\"])\n",
    "for subject in subjects:\n",
    "    result_mse += np.square(np.subtract(res_pred[subject], df_test[subject][4:31])).mean()\n",
    "result_mse"
   ]
  },
  {
   "cell_type": "code",
   "execution_count": 223,
   "metadata": {},
   "outputs": [
    {
     "data": {
      "text/html": [
       "<div>\n",
       "<style scoped>\n",
       "    .dataframe tbody tr th:only-of-type {\n",
       "        vertical-align: middle;\n",
       "    }\n",
       "\n",
       "    .dataframe tbody tr th {\n",
       "        vertical-align: top;\n",
       "    }\n",
       "\n",
       "    .dataframe thead th {\n",
       "        text-align: right;\n",
       "    }\n",
       "</style>\n",
       "<table border=\"1\" class=\"dataframe\">\n",
       "  <thead>\n",
       "    <tr style=\"text-align: right;\">\n",
       "      <th></th>\n",
       "      <th>MSE</th>\n",
       "    </tr>\n",
       "  </thead>\n",
       "  <tbody>\n",
       "    <tr>\n",
       "      <th>baseline mode</th>\n",
       "      <td>21.629630</td>\n",
       "    </tr>\n",
       "    <tr>\n",
       "      <th>bset mode</th>\n",
       "      <td>16.546305</td>\n",
       "    </tr>\n",
       "  </tbody>\n",
       "</table>\n",
       "</div>"
      ],
      "text/plain": [
       "                     MSE\n",
       "baseline mode  21.629630\n",
       "bset mode      16.546305"
      ]
     },
     "execution_count": 223,
     "metadata": {},
     "output_type": "execute_result"
    }
   ],
   "source": [
    "pd.DataFrame([base_mse, result_mse], columns=[\"MSE\"], index=[\"baseline mode\", \"bset mode\"])"
   ]
  },
  {
   "cell_type": "markdown",
   "metadata": {},
   "source": [
    "## 4 Plot Results of Prediction"
   ]
  },
  {
   "cell_type": "code",
   "execution_count": 224,
   "metadata": {},
   "outputs": [
    {
     "data": {
      "application/vnd.plotly.v1+json": {
       "config": {
        "plotlyServerURL": "https://plot.ly"
       },
       "data": [
        {
         "line": {
          "color": "rgb(255, 102, 163)"
         },
         "mode": "lines",
         "name": "Known Max Temperature",
         "showlegend": false,
         "type": "scatter",
         "x": [
          "361",
          "362",
          "363",
          "364",
          "365",
          "366",
          "367",
          "368",
          "369",
          "370",
          "371",
          "372",
          "373",
          "374",
          "375",
          "376"
         ],
         "xaxis": "x",
         "y": [
          -21.174,
          -21.075,
          -20.347,
          -20.347,
          -21.531,
          -20.442,
          -20.914,
          -20.919,
          -21.164,
          -19.47,
          -19.785,
          -21.232,
          -20.061,
          -21.154,
          -19.756,
          -19.278
         ],
         "yaxis": "y"
        },
        {
         "line": {
          "color": "rgb(255, 102, 163)",
          "dash": "dash"
         },
         "mode": "lines",
         "name": "Expected Max Temperature",
         "type": "scatter",
         "x": [
          376,
          377,
          378,
          379,
          380,
          381
         ],
         "xaxis": "x",
         "y": [
          -19.278,
          -14.05190954838946,
          -16.503006910582883,
          -24.525388796306885,
          -20.95506158858916,
          -18.279558871259567
         ],
         "yaxis": "y"
        },
        {
         "line": {
          "color": "rgba(255, 102, 163, 0.2)"
         },
         "mode": "lines",
         "name": "Interval of Max Temperature",
         "showlegend": false,
         "type": "scatter",
         "x": [
          376,
          377,
          378,
          379,
          380,
          381
         ],
         "xaxis": "x",
         "y": [
          -19.278,
          -9.279070183580753,
          -11.571214488077981,
          -19.513273299543968,
          -15.876348806559863,
          -13.183314637715261
         ],
         "yaxis": "y"
        },
        {
         "fill": "tonexty",
         "fillcolor": "rgba(255, 102, 163, 0.2)",
         "line": {
          "color": "rgba(255, 102, 163, 0.2)"
         },
         "mode": "lines",
         "name": "Interval of Max Temperature",
         "type": "scatter",
         "x": [
          376,
          377,
          378,
          379,
          380,
          381
         ],
         "xaxis": "x",
         "y": [
          -19.278,
          -18.824748913198167,
          -21.434799333087785,
          -29.5375042930698,
          -26.03377437061846,
          -23.37580310480387
         ],
         "yaxis": "y"
        },
        {
         "line": {
          "color": "rgb(102, 181, 255)"
         },
         "mode": "lines",
         "name": "Known Max Temperature",
         "showlegend": false,
         "type": "scatter",
         "x": [
          "361",
          "362",
          "363",
          "364",
          "365",
          "366",
          "367",
          "368",
          "369",
          "370",
          "371",
          "372",
          "373",
          "374",
          "375",
          "376"
         ],
         "xaxis": "x2",
         "y": [
          -98.548,
          -99.804,
          -99.893,
          -99.893,
          -98.8,
          -98.941,
          -139.936,
          -100.049,
          -98.234,
          -98.97,
          -96.625,
          -97.195,
          -98.115,
          -97.305,
          -97.539,
          -98.188
         ],
         "yaxis": "y2"
        },
        {
         "line": {
          "color": "rgb(102, 181, 255)",
          "dash": "dash"
         },
         "mode": "lines",
         "name": "Expected Min Temperature",
         "type": "scatter",
         "x": [
          376,
          377,
          378,
          379,
          380,
          381
         ],
         "xaxis": "x2",
         "y": [
          -98.188,
          -80.6675193518426,
          -75.77932551716168,
          -74.27731662668853,
          -76.26838568483635,
          -77.07664836399556
         ],
         "yaxis": "y2"
        },
        {
         "line": {
          "color": "rgba(102, 181, 255, 0.2)"
         },
         "mode": "lines",
         "name": "Interval of Min Temperature",
         "showlegend": false,
         "type": "scatter",
         "x": [
          376,
          377,
          378,
          379,
          380,
          381
         ],
         "xaxis": "x2",
         "y": [
          -98.188,
          -78.29785975667004,
          -73.34145050447634,
          -71.79894841470798,
          -73.77691916868457,
          -74.58226148234884
         ],
         "yaxis": "y2"
        },
        {
         "fill": "tonexty",
         "fillcolor": "rgba(102, 181, 255, 0.2)",
         "line": {
          "color": "rgba(102, 181, 255, 0.2)"
         },
         "mode": "lines",
         "name": "Interval of Min Temperature",
         "type": "scatter",
         "x": [
          376,
          377,
          378,
          379,
          380,
          381
         ],
         "xaxis": "x2",
         "y": [
          -98.188,
          -83.03717894701516,
          -78.21720052984702,
          -76.75568483866908,
          -78.75985220098812,
          -79.57103524564228
         ],
         "yaxis": "y2"
        },
        {
         "line": {
          "color": "rgb(102, 255, 179)"
         },
         "mode": "lines",
         "name": "Known Avg Pressure",
         "showlegend": false,
         "type": "scatter",
         "x": [
          "361",
          "362",
          "363",
          "364",
          "365",
          "366",
          "367",
          "368",
          "369",
          "370",
          "371",
          "372",
          "373",
          "374",
          "375",
          "376"
         ],
         "xaxis": "x3",
         "y": [
          665.169,
          664.49,
          663.455,
          663.455,
          662.454,
          660.866,
          661.043,
          660.436,
          659.424,
          658.193,
          657.663,
          656.774,
          656.752,
          654.061,
          654.749,
          651.546
         ],
         "yaxis": "y3"
        },
        {
         "line": {
          "color": "rgb(102, 255, 179)",
          "dash": "dash"
         },
         "mode": "lines",
         "name": "Expected Avg Pressure",
         "type": "scatter",
         "x": [
          376,
          377,
          378,
          379,
          380,
          381
         ],
         "xaxis": "x3",
         "y": [
          651.546,
          654.849210832547,
          659.1267012669831,
          662.5356067130064,
          664.5785196714351,
          666.5261989928213
         ],
         "yaxis": "y3"
        },
        {
         "line": {
          "color": "rgba(102, 255, 179, 0.2)"
         },
         "mode": "lines",
         "name": "Interval of Avg Pressure",
         "showlegend": false,
         "type": "scatter",
         "x": [
          376,
          377,
          378,
          379,
          380,
          381
         ],
         "xaxis": "x3",
         "y": [
          651.546,
          656.1423417298294,
          660.8761504227011,
          664.5385414412814,
          666.8177003858508,
          668.9942979684176
         ],
         "yaxis": "y3"
        },
        {
         "fill": "tonexty",
         "fillcolor": "rgba(102, 255, 179, 0.2)",
         "line": {
          "color": "rgba(102, 255, 179, 0.2)"
         },
         "mode": "lines",
         "name": "Interval of Avg Pressure",
         "type": "scatter",
         "x": [
          376,
          377,
          378,
          379,
          380,
          381
         ],
         "xaxis": "x3",
         "y": [
          651.546,
          653.5560799352646,
          657.3772521112651,
          660.5326719847313,
          662.3393389570193,
          664.0581000172249
         ],
         "yaxis": "y3"
        }
       ],
       "layout": {
        "annotations": [
         {
          "font": {
           "size": 16
          },
          "showarrow": false,
          "text": "Max Temperature",
          "x": 0.5,
          "xanchor": "center",
          "xref": "paper",
          "y": 1,
          "yanchor": "bottom",
          "yref": "paper"
         },
         {
          "font": {
           "size": 16
          },
          "showarrow": false,
          "text": "Min Temperature",
          "x": 0.5,
          "xanchor": "center",
          "xref": "paper",
          "y": 0.6111111111111112,
          "yanchor": "bottom",
          "yref": "paper"
         },
         {
          "font": {
           "size": 16
          },
          "showarrow": false,
          "text": "Average Pressure",
          "x": 0.5,
          "xanchor": "center",
          "xref": "paper",
          "y": 0.22222222222222224,
          "yanchor": "bottom",
          "yref": "paper"
         }
        ],
        "height": 700,
        "template": {
         "data": {
          "bar": [
           {
            "error_x": {
             "color": "#f2f5fa"
            },
            "error_y": {
             "color": "#f2f5fa"
            },
            "marker": {
             "line": {
              "color": "rgb(17,17,17)",
              "width": 0.5
             }
            },
            "type": "bar"
           }
          ],
          "barpolar": [
           {
            "marker": {
             "line": {
              "color": "rgb(17,17,17)",
              "width": 0.5
             }
            },
            "type": "barpolar"
           }
          ],
          "carpet": [
           {
            "aaxis": {
             "endlinecolor": "#A2B1C6",
             "gridcolor": "#506784",
             "linecolor": "#506784",
             "minorgridcolor": "#506784",
             "startlinecolor": "#A2B1C6"
            },
            "baxis": {
             "endlinecolor": "#A2B1C6",
             "gridcolor": "#506784",
             "linecolor": "#506784",
             "minorgridcolor": "#506784",
             "startlinecolor": "#A2B1C6"
            },
            "type": "carpet"
           }
          ],
          "choropleth": [
           {
            "colorbar": {
             "outlinewidth": 0,
             "ticks": ""
            },
            "type": "choropleth"
           }
          ],
          "contour": [
           {
            "colorbar": {
             "outlinewidth": 0,
             "ticks": ""
            },
            "colorscale": [
             [
              0,
              "#0d0887"
             ],
             [
              0.1111111111111111,
              "#46039f"
             ],
             [
              0.2222222222222222,
              "#7201a8"
             ],
             [
              0.3333333333333333,
              "#9c179e"
             ],
             [
              0.4444444444444444,
              "#bd3786"
             ],
             [
              0.5555555555555556,
              "#d8576b"
             ],
             [
              0.6666666666666666,
              "#ed7953"
             ],
             [
              0.7777777777777778,
              "#fb9f3a"
             ],
             [
              0.8888888888888888,
              "#fdca26"
             ],
             [
              1,
              "#f0f921"
             ]
            ],
            "type": "contour"
           }
          ],
          "contourcarpet": [
           {
            "colorbar": {
             "outlinewidth": 0,
             "ticks": ""
            },
            "type": "contourcarpet"
           }
          ],
          "heatmap": [
           {
            "colorbar": {
             "outlinewidth": 0,
             "ticks": ""
            },
            "colorscale": [
             [
              0,
              "#0d0887"
             ],
             [
              0.1111111111111111,
              "#46039f"
             ],
             [
              0.2222222222222222,
              "#7201a8"
             ],
             [
              0.3333333333333333,
              "#9c179e"
             ],
             [
              0.4444444444444444,
              "#bd3786"
             ],
             [
              0.5555555555555556,
              "#d8576b"
             ],
             [
              0.6666666666666666,
              "#ed7953"
             ],
             [
              0.7777777777777778,
              "#fb9f3a"
             ],
             [
              0.8888888888888888,
              "#fdca26"
             ],
             [
              1,
              "#f0f921"
             ]
            ],
            "type": "heatmap"
           }
          ],
          "heatmapgl": [
           {
            "colorbar": {
             "outlinewidth": 0,
             "ticks": ""
            },
            "colorscale": [
             [
              0,
              "#0d0887"
             ],
             [
              0.1111111111111111,
              "#46039f"
             ],
             [
              0.2222222222222222,
              "#7201a8"
             ],
             [
              0.3333333333333333,
              "#9c179e"
             ],
             [
              0.4444444444444444,
              "#bd3786"
             ],
             [
              0.5555555555555556,
              "#d8576b"
             ],
             [
              0.6666666666666666,
              "#ed7953"
             ],
             [
              0.7777777777777778,
              "#fb9f3a"
             ],
             [
              0.8888888888888888,
              "#fdca26"
             ],
             [
              1,
              "#f0f921"
             ]
            ],
            "type": "heatmapgl"
           }
          ],
          "histogram": [
           {
            "marker": {
             "colorbar": {
              "outlinewidth": 0,
              "ticks": ""
             }
            },
            "type": "histogram"
           }
          ],
          "histogram2d": [
           {
            "colorbar": {
             "outlinewidth": 0,
             "ticks": ""
            },
            "colorscale": [
             [
              0,
              "#0d0887"
             ],
             [
              0.1111111111111111,
              "#46039f"
             ],
             [
              0.2222222222222222,
              "#7201a8"
             ],
             [
              0.3333333333333333,
              "#9c179e"
             ],
             [
              0.4444444444444444,
              "#bd3786"
             ],
             [
              0.5555555555555556,
              "#d8576b"
             ],
             [
              0.6666666666666666,
              "#ed7953"
             ],
             [
              0.7777777777777778,
              "#fb9f3a"
             ],
             [
              0.8888888888888888,
              "#fdca26"
             ],
             [
              1,
              "#f0f921"
             ]
            ],
            "type": "histogram2d"
           }
          ],
          "histogram2dcontour": [
           {
            "colorbar": {
             "outlinewidth": 0,
             "ticks": ""
            },
            "colorscale": [
             [
              0,
              "#0d0887"
             ],
             [
              0.1111111111111111,
              "#46039f"
             ],
             [
              0.2222222222222222,
              "#7201a8"
             ],
             [
              0.3333333333333333,
              "#9c179e"
             ],
             [
              0.4444444444444444,
              "#bd3786"
             ],
             [
              0.5555555555555556,
              "#d8576b"
             ],
             [
              0.6666666666666666,
              "#ed7953"
             ],
             [
              0.7777777777777778,
              "#fb9f3a"
             ],
             [
              0.8888888888888888,
              "#fdca26"
             ],
             [
              1,
              "#f0f921"
             ]
            ],
            "type": "histogram2dcontour"
           }
          ],
          "mesh3d": [
           {
            "colorbar": {
             "outlinewidth": 0,
             "ticks": ""
            },
            "type": "mesh3d"
           }
          ],
          "parcoords": [
           {
            "line": {
             "colorbar": {
              "outlinewidth": 0,
              "ticks": ""
             }
            },
            "type": "parcoords"
           }
          ],
          "scatter": [
           {
            "marker": {
             "line": {
              "color": "#283442"
             }
            },
            "type": "scatter"
           }
          ],
          "scatter3d": [
           {
            "line": {
             "colorbar": {
              "outlinewidth": 0,
              "ticks": ""
             }
            },
            "marker": {
             "colorbar": {
              "outlinewidth": 0,
              "ticks": ""
             }
            },
            "type": "scatter3d"
           }
          ],
          "scattercarpet": [
           {
            "marker": {
             "colorbar": {
              "outlinewidth": 0,
              "ticks": ""
             }
            },
            "type": "scattercarpet"
           }
          ],
          "scattergeo": [
           {
            "marker": {
             "colorbar": {
              "outlinewidth": 0,
              "ticks": ""
             }
            },
            "type": "scattergeo"
           }
          ],
          "scattergl": [
           {
            "marker": {
             "line": {
              "color": "#283442"
             }
            },
            "type": "scattergl"
           }
          ],
          "scattermapbox": [
           {
            "marker": {
             "colorbar": {
              "outlinewidth": 0,
              "ticks": ""
             }
            },
            "type": "scattermapbox"
           }
          ],
          "scatterpolar": [
           {
            "marker": {
             "colorbar": {
              "outlinewidth": 0,
              "ticks": ""
             }
            },
            "type": "scatterpolar"
           }
          ],
          "scatterpolargl": [
           {
            "marker": {
             "colorbar": {
              "outlinewidth": 0,
              "ticks": ""
             }
            },
            "type": "scatterpolargl"
           }
          ],
          "scatterternary": [
           {
            "marker": {
             "colorbar": {
              "outlinewidth": 0,
              "ticks": ""
             }
            },
            "type": "scatterternary"
           }
          ],
          "surface": [
           {
            "colorbar": {
             "outlinewidth": 0,
             "ticks": ""
            },
            "colorscale": [
             [
              0,
              "#0d0887"
             ],
             [
              0.1111111111111111,
              "#46039f"
             ],
             [
              0.2222222222222222,
              "#7201a8"
             ],
             [
              0.3333333333333333,
              "#9c179e"
             ],
             [
              0.4444444444444444,
              "#bd3786"
             ],
             [
              0.5555555555555556,
              "#d8576b"
             ],
             [
              0.6666666666666666,
              "#ed7953"
             ],
             [
              0.7777777777777778,
              "#fb9f3a"
             ],
             [
              0.8888888888888888,
              "#fdca26"
             ],
             [
              1,
              "#f0f921"
             ]
            ],
            "type": "surface"
           }
          ],
          "table": [
           {
            "cells": {
             "fill": {
              "color": "#506784"
             },
             "line": {
              "color": "rgb(17,17,17)"
             }
            },
            "header": {
             "fill": {
              "color": "#2a3f5f"
             },
             "line": {
              "color": "rgb(17,17,17)"
             }
            },
            "type": "table"
           }
          ]
         },
         "layout": {
          "annotationdefaults": {
           "arrowcolor": "#f2f5fa",
           "arrowhead": 0,
           "arrowwidth": 1
          },
          "colorscale": {
           "diverging": [
            [
             0,
             "#8e0152"
            ],
            [
             0.1,
             "#c51b7d"
            ],
            [
             0.2,
             "#de77ae"
            ],
            [
             0.3,
             "#f1b6da"
            ],
            [
             0.4,
             "#fde0ef"
            ],
            [
             0.5,
             "#f7f7f7"
            ],
            [
             0.6,
             "#e6f5d0"
            ],
            [
             0.7,
             "#b8e186"
            ],
            [
             0.8,
             "#7fbc41"
            ],
            [
             0.9,
             "#4d9221"
            ],
            [
             1,
             "#276419"
            ]
           ],
           "sequential": [
            [
             0,
             "#0d0887"
            ],
            [
             0.1111111111111111,
             "#46039f"
            ],
            [
             0.2222222222222222,
             "#7201a8"
            ],
            [
             0.3333333333333333,
             "#9c179e"
            ],
            [
             0.4444444444444444,
             "#bd3786"
            ],
            [
             0.5555555555555556,
             "#d8576b"
            ],
            [
             0.6666666666666666,
             "#ed7953"
            ],
            [
             0.7777777777777778,
             "#fb9f3a"
            ],
            [
             0.8888888888888888,
             "#fdca26"
            ],
            [
             1,
             "#f0f921"
            ]
           ],
           "sequentialminus": [
            [
             0,
             "#0d0887"
            ],
            [
             0.1111111111111111,
             "#46039f"
            ],
            [
             0.2222222222222222,
             "#7201a8"
            ],
            [
             0.3333333333333333,
             "#9c179e"
            ],
            [
             0.4444444444444444,
             "#bd3786"
            ],
            [
             0.5555555555555556,
             "#d8576b"
            ],
            [
             0.6666666666666666,
             "#ed7953"
            ],
            [
             0.7777777777777778,
             "#fb9f3a"
            ],
            [
             0.8888888888888888,
             "#fdca26"
            ],
            [
             1,
             "#f0f921"
            ]
           ]
          },
          "colorway": [
           "#636efa",
           "#EF553B",
           "#00cc96",
           "#ab63fa",
           "#FFA15A",
           "#19d3f3",
           "#FF6692",
           "#B6E880",
           "#FF97FF",
           "#FECB52"
          ],
          "font": {
           "color": "#f2f5fa"
          },
          "geo": {
           "bgcolor": "rgb(17,17,17)",
           "lakecolor": "rgb(17,17,17)",
           "landcolor": "rgb(17,17,17)",
           "showlakes": true,
           "showland": true,
           "subunitcolor": "#506784"
          },
          "hoverlabel": {
           "align": "left"
          },
          "hovermode": "closest",
          "mapbox": {
           "style": "dark"
          },
          "paper_bgcolor": "rgb(17,17,17)",
          "plot_bgcolor": "rgb(17,17,17)",
          "polar": {
           "angularaxis": {
            "gridcolor": "#506784",
            "linecolor": "#506784",
            "ticks": ""
           },
           "bgcolor": "rgb(17,17,17)",
           "radialaxis": {
            "gridcolor": "#506784",
            "linecolor": "#506784",
            "ticks": ""
           }
          },
          "scene": {
           "xaxis": {
            "backgroundcolor": "rgb(17,17,17)",
            "gridcolor": "#506784",
            "gridwidth": 2,
            "linecolor": "#506784",
            "showbackground": true,
            "ticks": "",
            "zerolinecolor": "#C8D4E3"
           },
           "yaxis": {
            "backgroundcolor": "rgb(17,17,17)",
            "gridcolor": "#506784",
            "gridwidth": 2,
            "linecolor": "#506784",
            "showbackground": true,
            "ticks": "",
            "zerolinecolor": "#C8D4E3"
           },
           "zaxis": {
            "backgroundcolor": "rgb(17,17,17)",
            "gridcolor": "#506784",
            "gridwidth": 2,
            "linecolor": "#506784",
            "showbackground": true,
            "ticks": "",
            "zerolinecolor": "#C8D4E3"
           }
          },
          "shapedefaults": {
           "line": {
            "color": "#f2f5fa"
           }
          },
          "sliderdefaults": {
           "bgcolor": "#C8D4E3",
           "bordercolor": "rgb(17,17,17)",
           "borderwidth": 1,
           "tickwidth": 0
          },
          "ternary": {
           "aaxis": {
            "gridcolor": "#506784",
            "linecolor": "#506784",
            "ticks": ""
           },
           "baxis": {
            "gridcolor": "#506784",
            "linecolor": "#506784",
            "ticks": ""
           },
           "bgcolor": "rgb(17,17,17)",
           "caxis": {
            "gridcolor": "#506784",
            "linecolor": "#506784",
            "ticks": ""
           }
          },
          "title": {
           "x": 0.05
          },
          "updatemenudefaults": {
           "bgcolor": "#506784",
           "borderwidth": 0
          },
          "xaxis": {
           "automargin": true,
           "gridcolor": "#283442",
           "linecolor": "#506784",
           "ticks": "",
           "zerolinecolor": "#283442",
           "zerolinewidth": 2
          },
          "yaxis": {
           "automargin": true,
           "gridcolor": "#283442",
           "linecolor": "#506784",
           "ticks": "",
           "zerolinecolor": "#283442",
           "zerolinewidth": 2
          }
         }
        },
        "width": 1200,
        "xaxis": {
         "anchor": "y",
         "domain": [
          0,
          1
         ],
         "title": {
          "text": "Sol Day"
         }
        },
        "xaxis2": {
         "anchor": "y2",
         "domain": [
          0,
          1
         ],
         "title": {
          "text": "Sol Day"
         }
        },
        "xaxis3": {
         "anchor": "y3",
         "domain": [
          0,
          1
         ],
         "title": {
          "text": "Sol Day"
         }
        },
        "yaxis": {
         "anchor": "x",
         "domain": [
          0.7777777777777778,
          1
         ],
         "title": {
          "text": "Degrees of Celcius"
         }
        },
        "yaxis2": {
         "anchor": "x2",
         "domain": [
          0.3888888888888889,
          0.6111111111111112
         ],
         "title": {
          "text": "Degrees of Celcius"
         }
        },
        "yaxis3": {
         "anchor": "x3",
         "domain": [
          0,
          0.22222222222222224
         ],
         "title": {
          "text": "Pascal"
         }
        }
       }
      },
      "text/html": [
       "<div>\n",
       "        \n",
       "        \n",
       "            <div id=\"8c072731-57d6-46a7-8241-c7b8dec6e19d\" class=\"plotly-graph-div\" style=\"height:700px; width:1200px;\"></div>\n",
       "            <script type=\"text/javascript\">\n",
       "                require([\"plotly\"], function(Plotly) {\n",
       "                    window.PLOTLYENV=window.PLOTLYENV || {};\n",
       "                    \n",
       "                if (document.getElementById(\"8c072731-57d6-46a7-8241-c7b8dec6e19d\")) {\n",
       "                    Plotly.newPlot(\n",
       "                        '8c072731-57d6-46a7-8241-c7b8dec6e19d',\n",
       "                        [{\"line\": {\"color\": \"rgb(255, 102, 163)\"}, \"mode\": \"lines\", \"name\": \"Known Max Temperature\", \"showlegend\": false, \"type\": \"scatter\", \"x\": [\"361\", \"362\", \"363\", \"364\", \"365\", \"366\", \"367\", \"368\", \"369\", \"370\", \"371\", \"372\", \"373\", \"374\", \"375\", \"376\"], \"xaxis\": \"x\", \"y\": [-21.174, -21.075, -20.347, -20.347, -21.531, -20.442, -20.914, -20.919, -21.164, -19.47, -19.785, -21.232, -20.061, -21.154, -19.756, -19.278], \"yaxis\": \"y\"}, {\"line\": {\"color\": \"rgb(255, 102, 163)\", \"dash\": \"dash\"}, \"mode\": \"lines\", \"name\": \"Expected Max Temperature\", \"type\": \"scatter\", \"x\": [376, 377, 378, 379, 380, 381], \"xaxis\": \"x\", \"y\": [-19.278, -14.05190954838946, -16.503006910582883, -24.525388796306885, -20.95506158858916, -18.279558871259567], \"yaxis\": \"y\"}, {\"line\": {\"color\": \"rgba(255, 102, 163, 0.2)\"}, \"mode\": \"lines\", \"name\": \"Interval of Max Temperature\", \"showlegend\": false, \"type\": \"scatter\", \"x\": [376, 377, 378, 379, 380, 381], \"xaxis\": \"x\", \"y\": [-19.278, -9.279070183580753, -11.571214488077981, -19.513273299543968, -15.876348806559863, -13.183314637715261], \"yaxis\": \"y\"}, {\"fill\": \"tonexty\", \"fillcolor\": \"rgba(255, 102, 163, 0.2)\", \"line\": {\"color\": \"rgba(255, 102, 163, 0.2)\"}, \"mode\": \"lines\", \"name\": \"Interval of Max Temperature\", \"type\": \"scatter\", \"x\": [376, 377, 378, 379, 380, 381], \"xaxis\": \"x\", \"y\": [-19.278, -18.824748913198167, -21.434799333087785, -29.5375042930698, -26.03377437061846, -23.37580310480387], \"yaxis\": \"y\"}, {\"line\": {\"color\": \"rgb(102, 181, 255)\"}, \"mode\": \"lines\", \"name\": \"Known Max Temperature\", \"showlegend\": false, \"type\": \"scatter\", \"x\": [\"361\", \"362\", \"363\", \"364\", \"365\", \"366\", \"367\", \"368\", \"369\", \"370\", \"371\", \"372\", \"373\", \"374\", \"375\", \"376\"], \"xaxis\": \"x2\", \"y\": [-98.548, -99.804, -99.893, -99.893, -98.8, -98.941, -139.936, -100.049, -98.234, -98.97, -96.625, -97.195, -98.115, -97.305, -97.539, -98.188], \"yaxis\": \"y2\"}, {\"line\": {\"color\": \"rgb(102, 181, 255)\", \"dash\": \"dash\"}, \"mode\": \"lines\", \"name\": \"Expected Min Temperature\", \"type\": \"scatter\", \"x\": [376, 377, 378, 379, 380, 381], \"xaxis\": \"x2\", \"y\": [-98.188, -80.6675193518426, -75.77932551716168, -74.27731662668853, -76.26838568483635, -77.07664836399556], \"yaxis\": \"y2\"}, {\"line\": {\"color\": \"rgba(102, 181, 255, 0.2)\"}, \"mode\": \"lines\", \"name\": \"Interval of Min Temperature\", \"showlegend\": false, \"type\": \"scatter\", \"x\": [376, 377, 378, 379, 380, 381], \"xaxis\": \"x2\", \"y\": [-98.188, -78.29785975667004, -73.34145050447634, -71.79894841470798, -73.77691916868457, -74.58226148234884], \"yaxis\": \"y2\"}, {\"fill\": \"tonexty\", \"fillcolor\": \"rgba(102, 181, 255, 0.2)\", \"line\": {\"color\": \"rgba(102, 181, 255, 0.2)\"}, \"mode\": \"lines\", \"name\": \"Interval of Min Temperature\", \"type\": \"scatter\", \"x\": [376, 377, 378, 379, 380, 381], \"xaxis\": \"x2\", \"y\": [-98.188, -83.03717894701516, -78.21720052984702, -76.75568483866908, -78.75985220098812, -79.57103524564228], \"yaxis\": \"y2\"}, {\"line\": {\"color\": \"rgb(102, 255, 179)\"}, \"mode\": \"lines\", \"name\": \"Known Avg Pressure\", \"showlegend\": false, \"type\": \"scatter\", \"x\": [\"361\", \"362\", \"363\", \"364\", \"365\", \"366\", \"367\", \"368\", \"369\", \"370\", \"371\", \"372\", \"373\", \"374\", \"375\", \"376\"], \"xaxis\": \"x3\", \"y\": [665.169, 664.49, 663.455, 663.455, 662.454, 660.866, 661.043, 660.436, 659.424, 658.193, 657.663, 656.774, 656.752, 654.061, 654.749, 651.546], \"yaxis\": \"y3\"}, {\"line\": {\"color\": \"rgb(102, 255, 179)\", \"dash\": \"dash\"}, \"mode\": \"lines\", \"name\": \"Expected Avg Pressure\", \"type\": \"scatter\", \"x\": [376, 377, 378, 379, 380, 381], \"xaxis\": \"x3\", \"y\": [651.546, 654.849210832547, 659.1267012669831, 662.5356067130064, 664.5785196714351, 666.5261989928213], \"yaxis\": \"y3\"}, {\"line\": {\"color\": \"rgba(102, 255, 179, 0.2)\"}, \"mode\": \"lines\", \"name\": \"Interval of Avg Pressure\", \"showlegend\": false, \"type\": \"scatter\", \"x\": [376, 377, 378, 379, 380, 381], \"xaxis\": \"x3\", \"y\": [651.546, 656.1423417298294, 660.8761504227011, 664.5385414412814, 666.8177003858508, 668.9942979684176], \"yaxis\": \"y3\"}, {\"fill\": \"tonexty\", \"fillcolor\": \"rgba(102, 255, 179, 0.2)\", \"line\": {\"color\": \"rgba(102, 255, 179, 0.2)\"}, \"mode\": \"lines\", \"name\": \"Interval of Avg Pressure\", \"type\": \"scatter\", \"x\": [376, 377, 378, 379, 380, 381], \"xaxis\": \"x3\", \"y\": [651.546, 653.5560799352646, 657.3772521112651, 660.5326719847313, 662.3393389570193, 664.0581000172249], \"yaxis\": \"y3\"}],\n",
       "                        {\"annotations\": [{\"font\": {\"size\": 16}, \"showarrow\": false, \"text\": \"Max Temperature\", \"x\": 0.5, \"xanchor\": \"center\", \"xref\": \"paper\", \"y\": 1.0, \"yanchor\": \"bottom\", \"yref\": \"paper\"}, {\"font\": {\"size\": 16}, \"showarrow\": false, \"text\": \"Min Temperature\", \"x\": 0.5, \"xanchor\": \"center\", \"xref\": \"paper\", \"y\": 0.6111111111111112, \"yanchor\": \"bottom\", \"yref\": \"paper\"}, {\"font\": {\"size\": 16}, \"showarrow\": false, \"text\": \"Average Pressure\", \"x\": 0.5, \"xanchor\": \"center\", \"xref\": \"paper\", \"y\": 0.22222222222222224, \"yanchor\": \"bottom\", \"yref\": \"paper\"}], \"height\": 700, \"template\": {\"data\": {\"bar\": [{\"error_x\": {\"color\": \"#f2f5fa\"}, \"error_y\": {\"color\": \"#f2f5fa\"}, \"marker\": {\"line\": {\"color\": \"rgb(17,17,17)\", \"width\": 0.5}}, \"type\": \"bar\"}], \"barpolar\": [{\"marker\": {\"line\": {\"color\": \"rgb(17,17,17)\", \"width\": 0.5}}, \"type\": \"barpolar\"}], \"carpet\": [{\"aaxis\": {\"endlinecolor\": \"#A2B1C6\", \"gridcolor\": \"#506784\", \"linecolor\": \"#506784\", \"minorgridcolor\": \"#506784\", \"startlinecolor\": \"#A2B1C6\"}, \"baxis\": {\"endlinecolor\": \"#A2B1C6\", \"gridcolor\": \"#506784\", \"linecolor\": \"#506784\", \"minorgridcolor\": \"#506784\", \"startlinecolor\": \"#A2B1C6\"}, \"type\": \"carpet\"}], \"choropleth\": [{\"colorbar\": {\"outlinewidth\": 0, \"ticks\": \"\"}, \"type\": \"choropleth\"}], \"contour\": [{\"colorbar\": {\"outlinewidth\": 0, \"ticks\": \"\"}, \"colorscale\": [[0.0, \"#0d0887\"], [0.1111111111111111, \"#46039f\"], [0.2222222222222222, \"#7201a8\"], [0.3333333333333333, \"#9c179e\"], [0.4444444444444444, \"#bd3786\"], [0.5555555555555556, \"#d8576b\"], [0.6666666666666666, \"#ed7953\"], [0.7777777777777778, \"#fb9f3a\"], [0.8888888888888888, \"#fdca26\"], [1.0, \"#f0f921\"]], \"type\": \"contour\"}], \"contourcarpet\": [{\"colorbar\": {\"outlinewidth\": 0, \"ticks\": \"\"}, \"type\": \"contourcarpet\"}], \"heatmap\": [{\"colorbar\": {\"outlinewidth\": 0, \"ticks\": \"\"}, \"colorscale\": [[0.0, \"#0d0887\"], [0.1111111111111111, \"#46039f\"], [0.2222222222222222, \"#7201a8\"], [0.3333333333333333, \"#9c179e\"], [0.4444444444444444, \"#bd3786\"], [0.5555555555555556, \"#d8576b\"], [0.6666666666666666, \"#ed7953\"], [0.7777777777777778, \"#fb9f3a\"], [0.8888888888888888, \"#fdca26\"], [1.0, \"#f0f921\"]], \"type\": \"heatmap\"}], \"heatmapgl\": [{\"colorbar\": {\"outlinewidth\": 0, \"ticks\": \"\"}, \"colorscale\": [[0.0, \"#0d0887\"], [0.1111111111111111, \"#46039f\"], [0.2222222222222222, \"#7201a8\"], [0.3333333333333333, \"#9c179e\"], [0.4444444444444444, \"#bd3786\"], [0.5555555555555556, \"#d8576b\"], [0.6666666666666666, \"#ed7953\"], [0.7777777777777778, \"#fb9f3a\"], [0.8888888888888888, \"#fdca26\"], [1.0, \"#f0f921\"]], \"type\": \"heatmapgl\"}], \"histogram\": [{\"marker\": {\"colorbar\": {\"outlinewidth\": 0, \"ticks\": \"\"}}, \"type\": \"histogram\"}], \"histogram2d\": [{\"colorbar\": {\"outlinewidth\": 0, \"ticks\": \"\"}, \"colorscale\": [[0.0, \"#0d0887\"], [0.1111111111111111, \"#46039f\"], [0.2222222222222222, \"#7201a8\"], [0.3333333333333333, \"#9c179e\"], [0.4444444444444444, \"#bd3786\"], [0.5555555555555556, \"#d8576b\"], [0.6666666666666666, \"#ed7953\"], [0.7777777777777778, \"#fb9f3a\"], [0.8888888888888888, \"#fdca26\"], [1.0, \"#f0f921\"]], \"type\": \"histogram2d\"}], \"histogram2dcontour\": [{\"colorbar\": {\"outlinewidth\": 0, \"ticks\": \"\"}, \"colorscale\": [[0.0, \"#0d0887\"], [0.1111111111111111, \"#46039f\"], [0.2222222222222222, \"#7201a8\"], [0.3333333333333333, \"#9c179e\"], [0.4444444444444444, \"#bd3786\"], [0.5555555555555556, \"#d8576b\"], [0.6666666666666666, \"#ed7953\"], [0.7777777777777778, \"#fb9f3a\"], [0.8888888888888888, \"#fdca26\"], [1.0, \"#f0f921\"]], \"type\": \"histogram2dcontour\"}], \"mesh3d\": [{\"colorbar\": {\"outlinewidth\": 0, \"ticks\": \"\"}, \"type\": \"mesh3d\"}], \"parcoords\": [{\"line\": {\"colorbar\": {\"outlinewidth\": 0, \"ticks\": \"\"}}, \"type\": \"parcoords\"}], \"scatter\": [{\"marker\": {\"line\": {\"color\": \"#283442\"}}, \"type\": \"scatter\"}], \"scatter3d\": [{\"line\": {\"colorbar\": {\"outlinewidth\": 0, \"ticks\": \"\"}}, \"marker\": {\"colorbar\": {\"outlinewidth\": 0, \"ticks\": \"\"}}, \"type\": \"scatter3d\"}], \"scattercarpet\": [{\"marker\": {\"colorbar\": {\"outlinewidth\": 0, \"ticks\": \"\"}}, \"type\": \"scattercarpet\"}], \"scattergeo\": [{\"marker\": {\"colorbar\": {\"outlinewidth\": 0, \"ticks\": \"\"}}, \"type\": \"scattergeo\"}], \"scattergl\": [{\"marker\": {\"line\": {\"color\": \"#283442\"}}, \"type\": \"scattergl\"}], \"scattermapbox\": [{\"marker\": {\"colorbar\": {\"outlinewidth\": 0, \"ticks\": \"\"}}, \"type\": \"scattermapbox\"}], \"scatterpolar\": [{\"marker\": {\"colorbar\": {\"outlinewidth\": 0, \"ticks\": \"\"}}, \"type\": \"scatterpolar\"}], \"scatterpolargl\": [{\"marker\": {\"colorbar\": {\"outlinewidth\": 0, \"ticks\": \"\"}}, \"type\": \"scatterpolargl\"}], \"scatterternary\": [{\"marker\": {\"colorbar\": {\"outlinewidth\": 0, \"ticks\": \"\"}}, \"type\": \"scatterternary\"}], \"surface\": [{\"colorbar\": {\"outlinewidth\": 0, \"ticks\": \"\"}, \"colorscale\": [[0.0, \"#0d0887\"], [0.1111111111111111, \"#46039f\"], [0.2222222222222222, \"#7201a8\"], [0.3333333333333333, \"#9c179e\"], [0.4444444444444444, \"#bd3786\"], [0.5555555555555556, \"#d8576b\"], [0.6666666666666666, \"#ed7953\"], [0.7777777777777778, \"#fb9f3a\"], [0.8888888888888888, \"#fdca26\"], [1.0, \"#f0f921\"]], \"type\": \"surface\"}], \"table\": [{\"cells\": {\"fill\": {\"color\": \"#506784\"}, \"line\": {\"color\": \"rgb(17,17,17)\"}}, \"header\": {\"fill\": {\"color\": \"#2a3f5f\"}, \"line\": {\"color\": \"rgb(17,17,17)\"}}, \"type\": \"table\"}]}, \"layout\": {\"annotationdefaults\": {\"arrowcolor\": \"#f2f5fa\", \"arrowhead\": 0, \"arrowwidth\": 1}, \"colorscale\": {\"diverging\": [[0, \"#8e0152\"], [0.1, \"#c51b7d\"], [0.2, \"#de77ae\"], [0.3, \"#f1b6da\"], [0.4, \"#fde0ef\"], [0.5, \"#f7f7f7\"], [0.6, \"#e6f5d0\"], [0.7, \"#b8e186\"], [0.8, \"#7fbc41\"], [0.9, \"#4d9221\"], [1, \"#276419\"]], \"sequential\": [[0.0, \"#0d0887\"], [0.1111111111111111, \"#46039f\"], [0.2222222222222222, \"#7201a8\"], [0.3333333333333333, \"#9c179e\"], [0.4444444444444444, \"#bd3786\"], [0.5555555555555556, \"#d8576b\"], [0.6666666666666666, \"#ed7953\"], [0.7777777777777778, \"#fb9f3a\"], [0.8888888888888888, \"#fdca26\"], [1.0, \"#f0f921\"]], \"sequentialminus\": [[0.0, \"#0d0887\"], [0.1111111111111111, \"#46039f\"], [0.2222222222222222, \"#7201a8\"], [0.3333333333333333, \"#9c179e\"], [0.4444444444444444, \"#bd3786\"], [0.5555555555555556, \"#d8576b\"], [0.6666666666666666, \"#ed7953\"], [0.7777777777777778, \"#fb9f3a\"], [0.8888888888888888, \"#fdca26\"], [1.0, \"#f0f921\"]]}, \"colorway\": [\"#636efa\", \"#EF553B\", \"#00cc96\", \"#ab63fa\", \"#FFA15A\", \"#19d3f3\", \"#FF6692\", \"#B6E880\", \"#FF97FF\", \"#FECB52\"], \"font\": {\"color\": \"#f2f5fa\"}, \"geo\": {\"bgcolor\": \"rgb(17,17,17)\", \"lakecolor\": \"rgb(17,17,17)\", \"landcolor\": \"rgb(17,17,17)\", \"showlakes\": true, \"showland\": true, \"subunitcolor\": \"#506784\"}, \"hoverlabel\": {\"align\": \"left\"}, \"hovermode\": \"closest\", \"mapbox\": {\"style\": \"dark\"}, \"paper_bgcolor\": \"rgb(17,17,17)\", \"plot_bgcolor\": \"rgb(17,17,17)\", \"polar\": {\"angularaxis\": {\"gridcolor\": \"#506784\", \"linecolor\": \"#506784\", \"ticks\": \"\"}, \"bgcolor\": \"rgb(17,17,17)\", \"radialaxis\": {\"gridcolor\": \"#506784\", \"linecolor\": \"#506784\", \"ticks\": \"\"}}, \"scene\": {\"xaxis\": {\"backgroundcolor\": \"rgb(17,17,17)\", \"gridcolor\": \"#506784\", \"gridwidth\": 2, \"linecolor\": \"#506784\", \"showbackground\": true, \"ticks\": \"\", \"zerolinecolor\": \"#C8D4E3\"}, \"yaxis\": {\"backgroundcolor\": \"rgb(17,17,17)\", \"gridcolor\": \"#506784\", \"gridwidth\": 2, \"linecolor\": \"#506784\", \"showbackground\": true, \"ticks\": \"\", \"zerolinecolor\": \"#C8D4E3\"}, \"zaxis\": {\"backgroundcolor\": \"rgb(17,17,17)\", \"gridcolor\": \"#506784\", \"gridwidth\": 2, \"linecolor\": \"#506784\", \"showbackground\": true, \"ticks\": \"\", \"zerolinecolor\": \"#C8D4E3\"}}, \"shapedefaults\": {\"line\": {\"color\": \"#f2f5fa\"}}, \"sliderdefaults\": {\"bgcolor\": \"#C8D4E3\", \"bordercolor\": \"rgb(17,17,17)\", \"borderwidth\": 1, \"tickwidth\": 0}, \"ternary\": {\"aaxis\": {\"gridcolor\": \"#506784\", \"linecolor\": \"#506784\", \"ticks\": \"\"}, \"baxis\": {\"gridcolor\": \"#506784\", \"linecolor\": \"#506784\", \"ticks\": \"\"}, \"bgcolor\": \"rgb(17,17,17)\", \"caxis\": {\"gridcolor\": \"#506784\", \"linecolor\": \"#506784\", \"ticks\": \"\"}}, \"title\": {\"x\": 0.05}, \"updatemenudefaults\": {\"bgcolor\": \"#506784\", \"borderwidth\": 0}, \"xaxis\": {\"automargin\": true, \"gridcolor\": \"#283442\", \"linecolor\": \"#506784\", \"ticks\": \"\", \"zerolinecolor\": \"#283442\", \"zerolinewidth\": 2}, \"yaxis\": {\"automargin\": true, \"gridcolor\": \"#283442\", \"linecolor\": \"#506784\", \"ticks\": \"\", \"zerolinecolor\": \"#283442\", \"zerolinewidth\": 2}}}, \"width\": 1200, \"xaxis\": {\"anchor\": \"y\", \"domain\": [0.0, 1.0], \"title\": {\"text\": \"Sol Day\"}}, \"xaxis2\": {\"anchor\": \"y2\", \"domain\": [0.0, 1.0], \"title\": {\"text\": \"Sol Day\"}}, \"xaxis3\": {\"anchor\": \"y3\", \"domain\": [0.0, 1.0], \"title\": {\"text\": \"Sol Day\"}}, \"yaxis\": {\"anchor\": \"x\", \"domain\": [0.7777777777777778, 1.0], \"title\": {\"text\": \"Degrees of Celcius\"}}, \"yaxis2\": {\"anchor\": \"x2\", \"domain\": [0.3888888888888889, 0.6111111111111112], \"title\": {\"text\": \"Degrees of Celcius\"}}, \"yaxis3\": {\"anchor\": \"x3\", \"domain\": [0.0, 0.22222222222222224], \"title\": {\"text\": \"Pascal\"}}},\n",
       "                        {\"responsive\": true}\n",
       "                    ).then(function(){\n",
       "                            \n",
       "var gd = document.getElementById('8c072731-57d6-46a7-8241-c7b8dec6e19d');\n",
       "var x = new MutationObserver(function (mutations, observer) {{\n",
       "        var display = window.getComputedStyle(gd).display;\n",
       "        if (!display || display === 'none') {{\n",
       "            console.log([gd, 'removed!']);\n",
       "            Plotly.purge(gd);\n",
       "            observer.disconnect();\n",
       "        }}\n",
       "}});\n",
       "\n",
       "// Listen for the removal of the full notebook cells\n",
       "var notebookContainer = gd.closest('#notebook-container');\n",
       "if (notebookContainer) {{\n",
       "    x.observe(notebookContainer, {childList: true});\n",
       "}}\n",
       "\n",
       "// Listen for the clearing of the current output cell\n",
       "var outputEl = gd.closest('.output');\n",
       "if (outputEl) {{\n",
       "    x.observe(outputEl, {childList: true});\n",
       "}}\n",
       "\n",
       "                        })\n",
       "                };\n",
       "                });\n",
       "            </script>\n",
       "        </div>"
      ]
     },
     "metadata": {},
     "output_type": "display_data"
    }
   ],
   "source": [
    "def predict_plots(step, df):\n",
    "    \"\"\"Take steps to predict and dataframe used for prediction, returns plot of prediction\"\"\"\n",
    "    main_keys = df['sol_day'].values\n",
    "    model = results_origin\n",
    "    sol_days_pred = [int(main_keys[-1]) + i for i in range(0, step + 1)]    # Sol days to predict\n",
    "    pred = model.forecast_interval(df[['min_temp', 'max_temp', 'pressure']].iloc[-3:].values, step)    # Predictions needed\n",
    "    prev_max_temp = list(df[\"max_temp\"])    # Previous max temperatures\n",
    "\n",
    "    # set up \n",
    "    fig = make_subplots(rows=3, cols=1, subplot_titles=(\"Max Temperature\", \"Min Temperature\", \"Average Pressure\",))\n",
    "    \n",
    "    # plot max temperature\n",
    "    prev_max_temp = list(df[\"max_temp\"])    # Previous max temperatures\n",
    "    max_temp_dic = {}    # Record predicted max temperature and confidence intervals\n",
    "    for i in range(0, 3):\n",
    "        max_temp_dic['temp_exp'] = [prev_max_temp[-1]] + [i[1] for i in pred[0]]\n",
    "        max_temp_dic['temp_lower'] = [prev_max_temp[-1]] +  [i[1] for i in pred[1]]\n",
    "        max_temp_dic['temp_upper'] = [prev_max_temp[-1]] +  [i[1] for i in pred[2]]\n",
    "    fig.add_trace(go.Scatter(x=df['sol_day'], y=prev_max_temp,\n",
    "                         mode='lines', \n",
    "                         name='Known Max Temperature', \n",
    "                         line_color='rgb(255, 102, 163)',\n",
    "                         showlegend=False, \n",
    "                         ), row=1, col=1)\n",
    "    fig.add_trace(go.Scatter(x=sol_days_pred, y=max_temp_dic['temp_exp'],\n",
    "                         mode='lines', \n",
    "                         line=dict(dash='dash'), \n",
    "                         line_color='rgb(255, 102, 163)', \n",
    "                         name='Expected Max Temperature'), row=1, col=1)\n",
    "    fig.add_trace(go.Scatter(x=sol_days_pred, y=max_temp_dic['temp_upper'],\n",
    "                         mode='lines',\n",
    "                         name='Interval of Max Temperature', \n",
    "                         line_color='rgba(255, 102, 163, 0.2)', \n",
    "                         showlegend=False), row=1, col=1)\n",
    "    fig.add_trace(go.Scatter(x=sol_days_pred, y=max_temp_dic['temp_lower'],\n",
    "                         mode='lines',\n",
    "                         name='Interval of Max Temperature', \n",
    "                         fill='tonexty', \n",
    "                         line_color='rgba(255, 102, 163, 0.2)', \n",
    "                         fillcolor='rgba(255, 102, 163, 0.2)'), row=1, col=1)\n",
    "    fig.update_xaxes(title_text=\"Sol Day\", row=1, col=1)\n",
    "    fig.update_yaxes(title_text=\"Degrees of Celcius\", row=1, col=1)\n",
    "    \n",
    "    # plot min temperature\n",
    "    prev_min_temp = list(df[\"min_temp\"])    # Previous min temperatures\n",
    "    min_temp_dic = {}    # Record predicted min temperature and confidence intervals\n",
    "    for i in range(0, 3):\n",
    "        min_temp_dic['temp_exp'] = [prev_min_temp[-1]] + [i[0] for i in pred[0]]\n",
    "        min_temp_dic['temp_lower'] = [prev_min_temp[-1]] +  [i[0] for i in pred[1]]\n",
    "        min_temp_dic['temp_upper'] = [prev_min_temp[-1]] +  [i[0] for i in pred[2]]\n",
    "    fig.add_trace(go.Scatter(x=df['sol_day'], y=prev_min_temp,\n",
    "                         mode='lines', \n",
    "                         name='Known Max Temperature', \n",
    "                         line_color='rgb(102, 181, 255)',\n",
    "                         showlegend=False), row=2, col=1)\n",
    "    fig.add_trace(go.Scatter(x=sol_days_pred, y=min_temp_dic['temp_exp'],\n",
    "                         mode='lines', \n",
    "                         line=dict(dash='dash'), \n",
    "                         line_color='rgb(102, 181, 255)', \n",
    "                         name='Expected Min Temperature'), row=2, col=1)\n",
    "    fig.add_trace(go.Scatter(x=sol_days_pred, y=min_temp_dic['temp_upper'],\n",
    "                         mode='lines',\n",
    "                         name='Interval of Min Temperature', \n",
    "                         line_color='rgba(102, 181, 255, 0.2)', \n",
    "                         showlegend=False), row=2, col=1)\n",
    "    fig.add_trace(go.Scatter(x=sol_days_pred, y=min_temp_dic['temp_lower'],\n",
    "                         mode='lines',\n",
    "                         name='Interval of Min Temperature', \n",
    "                         fill='tonexty', \n",
    "                         line_color='rgba(102, 181, 255, 0.2)', \n",
    "                         fillcolor='rgba(102, 181, 255, 0.2)'), row=2, col=1)\n",
    "    fig.update_xaxes(title_text=\"Sol Day\", row=2, col=1)\n",
    "    fig.update_yaxes(title_text=\"Degrees of Celcius\", row=2, col=1)\n",
    "    \n",
    "    # plot avg temperature\n",
    "    prev_ps = list(df['pressure'])    # Previous max temperatures\n",
    "    ps_dic = {}    # Record predicted max temperature and confidence intervals\n",
    "    for i in range(0, 3):\n",
    "        ps_dic['ps_exp'] = [prev_ps[-1]] + [i[2] for i in pred[0]]\n",
    "        ps_dic['ps_lower'] = [prev_ps[-1]] +  [i[2] for i in pred[1]]\n",
    "        ps_dic['ps_upper'] = [prev_ps[-1]] +  [i[2] for i in pred[2]]\n",
    "    fig.add_trace(go.Scatter(x=df['sol_day'], y=prev_ps,\n",
    "                         mode='lines', \n",
    "                         name='Known Avg Pressure', \n",
    "                         line_color='rgb(102, 255, 179)',\n",
    "                         showlegend=False), row=3, col=1)\n",
    "    fig.add_trace(go.Scatter(x=sol_days_pred, y=ps_dic['ps_exp'],\n",
    "                         mode='lines', \n",
    "                         line=dict(dash='dash'), \n",
    "                         line_color='rgb(102, 255, 179)', \n",
    "                         name='Expected Avg Pressure'), row=3, col=1)\n",
    "    fig.add_trace(go.Scatter(x=sol_days_pred, y=ps_dic['ps_upper'],\n",
    "                         mode='lines',\n",
    "                         name='Interval of Avg Pressure', \n",
    "                         line_color='rgba(102, 255, 179, 0.2)', \n",
    "                         showlegend=False), row=3, col=1)\n",
    "    fig.add_trace(go.Scatter(x=sol_days_pred, y=ps_dic['ps_lower'],\n",
    "                         mode='lines',\n",
    "                         name='Interval of Avg Pressure', \n",
    "                         fill='tonexty', \n",
    "                         line_color='rgba(102, 255, 179, 0.2)', \n",
    "                         fillcolor='rgba(102, 255, 179, 0.2)'), row=3, col=1)\n",
    "    fig.update_xaxes(title_text=\"Sol Day\", row=3, col=1)\n",
    "    fig.update_yaxes(title_text=\"Pascal\", row=3, col=1)\n",
    "    \n",
    "    fig.update_layout(width=1200, height=700)\n",
    "    \n",
    "    return fig\n",
    "\n",
    "\n",
    "fig = predict_plots(5, df)\n",
    "fig.show()"
   ]
  }
 ],
 "metadata": {
  "kernelspec": {
   "display_name": "Python 3",
   "language": "python",
   "name": "python3"
  },
  "language_info": {
   "codemirror_mode": {
    "name": "ipython",
    "version": 3
   },
   "file_extension": ".py",
   "mimetype": "text/x-python",
   "name": "python",
   "nbconvert_exporter": "python",
   "pygments_lexer": "ipython3",
   "version": "3.7.3"
  }
 },
 "nbformat": 4,
 "nbformat_minor": 2
}
